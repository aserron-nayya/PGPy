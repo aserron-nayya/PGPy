{
  "cells": [
    {
      "cell_type": "markdown",
      "metadata": {
        "id": "view-in-github",
        "colab_type": "text"
      },
      "source": [
        "<a href=\"https://colab.research.google.com/github/aserron-nayya/PGPy/blob/master/how_we_implement_the_extraction_in_a_modular_SOLI_.ipynb\" target=\"_parent\"><img src=\"https://colab.research.google.com/assets/colab-badge.svg\" alt=\"Open In Colab\"/></a>"
      ]
    },
    {
      "cell_type": "markdown",
      "source": [
        "Alright, let's dive into implementing the extraction process in a modular and SOLID way. Here's how we can achieve this using Python:\n",
        "\n",
        "**1. Define an Interface (Abstraction)**\n",
        "\n",
        "We'll start by defining an abstract base class (interface) for our extractors. This will ensure that all our concrete extractor classes adhere to a common structure."
      ],
      "metadata": {
        "id": "j7B339VVazJk"
      }
    },
    {
      "cell_type": "markdown",
      "source": [
        "\n",
        "# File Ingestor Layer\n",
        "\n",
        "\n"
      ],
      "metadata": {
        "id": "5auMKb7oa7Rh"
      }
    },
    {
      "cell_type": "markdown",
      "source": [
        "## Overview\n",
        "\n",
        "### Class Diagram\n",
        "\n",
        "```mermaid\n",
        "  graph TD\n",
        "      A[DataExtractor] --> B(CSVExtractor)\n",
        "      A --> C(ExcelExtractor)\n",
        "      A --> D(XMLExtractor)\n",
        "      E[ExtractorFactory] --> B\n",
        "      E --> C\n",
        "      E --> D\n",
        "```\n",
        "```html\n",
        " <code language=\"js\" >\n",
        " sequenceDiagram\n",
        "    Alice->>John: Hello John, how are you?\n",
        "    John-->>Alice: Great!\n",
        " </code>\n",
        "```\n",
        "\n",
        "#! add class digram !#\n",
        "\n",
        "\n",
        "## Software Design\n",
        "\n",
        "## Python Example Implmentation"
      ],
      "metadata": {
        "id": "RkyfqbDIbo97"
      }
    },
    {
      "cell_type": "markdown",
      "source": [
        "# Sección nueva"
      ],
      "metadata": {
        "id": "PNTAmKSdNnjA"
      }
    },
    {
      "cell_type": "code",
      "source": [
        "import csv\n",
        "\n",
        "class CSVExtractor(DataExtractor):\n",
        "    \"\"\"\n",
        "    Extracts data from a CSV file.\n",
        "    \"\"\"\n",
        "\n",
        "    def extract(self, file_path: str) -> dict:\n",
        "        \"\"\"\n",
        "        Extracts data from the given CSV file.\n",
        "\n",
        "        Args:\n",
        "            file_path (str): The path to the CSV file.\n",
        "\n",
        "        Returns:\n",
        "            dict: A dictionary containing the extracted data.\n",
        "        \"\"\"\n",
        "        data = []\n",
        "        with open(file_path, 'r') as file:\n",
        "            reader = csv.DictReader(file)\n",
        "            for row in reader:\n",
        "                data.append(row)\n",
        "        return {'data': data}\n",
        "\n",
        "\n",
        "import openpyxl\n",
        "\n",
        "class ExcelExtractor(DataExtractor):\n",
        "    \"\"\"\n",
        "    Extracts data from an Excel file.\n",
        "    \"\"\"\n",
        "\n",
        "    def extract(self, file_path: str) -> dict:\n",
        "        \"\"\"\n",
        "        Extracts data from the given Excel file.\n",
        "\n",
        "        Args:\n",
        "            file_path (str): The path to the Excel file.\n",
        "\n",
        "        Returns:\n",
        "            dict: A dictionary containing the extracted data.\n",
        "        \"\"\"\n",
        "        workbook = openpyxl.load_workbook(file_path)\n",
        "        sheet = workbook.active\n",
        "        data = []\n",
        "        for row in sheet.iter_rows(values_only=True):\n",
        "            data.append(row)\n",
        "        return {'data': data}\n",
        "\n",
        "\n",
        "import xml.etree.ElementTree as ET\n",
        "\n",
        "class XMLExtractor(DataExtractor):\n",
        "    \"\"\"\n",
        "    Extracts data from an XML file.\n",
        "    \"\"\"\n",
        "\n",
        "    def extract(self, file_path: str) -> dict:\n",
        "        \"\"\"\n",
        "        Extracts data from the given XML file.\n",
        "\n",
        "        Args:\n",
        "            file_path (str): The path to the XML file.\n",
        "\n",
        "        Returns:\n",
        "            dict: A dictionary containing the extracted data.\n",
        "        \"\"\"\n",
        "        tree = ET.parse(file_path)\n",
        "        root = tree.getroot()\n",
        "        # Implement logic to extract data from XML elements\n",
        "        # ...\n",
        "        return {'data': data}"
      ],
      "outputs": [],
      "execution_count": null,
      "metadata": {
        "id": "pGpFJ9oqazJo"
      }
    },
    {
      "cell_type": "markdown",
      "source": [
        "**3. Create an Extractor Factory**\n",
        "\n",
        "To easily create instances of the appropriate extractor based on the file type, we'll use a factory pattern."
      ],
      "metadata": {
        "id": "qWRFPxxxazJo"
      }
    },
    {
      "cell_type": "code",
      "source": [
        "class ExtractorFactory:\n",
        "    \"\"\"\n",
        "    Factory class for creating data extractors.\n",
        "    \"\"\"\n",
        "\n",
        "    @staticmethod\n",
        "    def create_extractor(file_type: str) -> DataExtractor:\n",
        "        \"\"\"\n",
        "        Creates a data extractor based on the given file type.\n",
        "\n",
        "        Args:\n",
        "            file_type (str): The type of the file (e.g., 'csv', 'xlsx', 'xml').\n",
        "\n",
        "        Returns:\n",
        "            DataExtractor: An instance of the appropriate data extractor.\n",
        "\n",
        "        Raises:\n",
        "            ValueError: If the file type is not supported.\n",
        "        \"\"\"\n",
        "        if file_type == 'csv':\n",
        "            return CSVExtractor()\n",
        "        elif file_type == 'xlsx':\n",
        "            return ExcelExtractor()\n",
        "        elif file_type == 'xml':\n",
        "            return XMLExtractor()\n",
        "        else:\n",
        "            raise ValueError(f\"Unsupported file type: {file_type}\")"
      ],
      "outputs": [],
      "execution_count": null,
      "metadata": {
        "id": "dSu1keB0azJo"
      }
    },
    {
      "cell_type": "markdown",
      "source": [
        "**Implementation and Usage**\n",
        "\n",
        "Now, you can use the factory to create the appropriate extractor and extract data from any supported file type."
      ],
      "metadata": {
        "id": "oGHfvXu9azJp"
      }
    },
    {
      "cell_type": "code",
      "source": [
        "file_path = 'data.csv'\n",
        "file_type = file_path.split('.')[-1]\n",
        "\n",
        "extractor = ExtractorFactory.create_extractor(file_type)\n",
        "extracted_data = extractor.extract(file_path)\n",
        "\n",
        "print(extracted_data)"
      ],
      "outputs": [],
      "execution_count": null,
      "metadata": {
        "id": "QnTpI5EGazJp"
      }
    },
    {
      "cell_type": "markdown",
      "source": [
        "**SOLID Principles**\n",
        "\n",
        "This implementation adheres to the SOLID principles:\n",
        "\n",
        "* **Single Responsibility:** Each extractor class is responsible for extracting data from a specific file type.\n",
        "* **Open/Closed:** You can easily add support for new file types by creating new extractor classes without modifying existing code.\n",
        "* **Liskov Substitution:** Any concrete extractor can be used interchangeably as a `DataExtractor`.\n",
        "* **Interface Segregation:** The `DataExtractor` interface is simple and focused on data extraction.\n",
        "* **Dependency Inversion:** The factory class decouples the client code from concrete extractor classes.\n",
        "\n",
        "This approach provides a modular, flexible, and maintainable solution for your data extraction needs.\n",
        "\n",
        "Let me know if you have any other questions or if you'd like to explore other aspects of the data ingestion pipeline!"
      ],
      "metadata": {
        "id": "opIjHF3sazJp"
      }
    },
    {
      "cell_type": "markdown",
      "source": [
        "<div class=\"md-recitation\">\n",
        "  Sources\n",
        "  <ol>\n",
        "  <li><a href=\"https://github.com/AGI-AI-YZP/all-i-need-to-build-you\">https://github.com/AGI-AI-YZP/all-i-need-to-build-you</a></li>\n",
        "  </ol>\n",
        "</div>"
      ],
      "metadata": {
        "id": "HpRRw1mZazJp"
      }
    }
  ],
  "metadata": {
    "colab": {
      "provenance": [],
      "toc_visible": true,
      "include_colab_link": true
    },
    "kernelspec": {
      "display_name": "Python 3",
      "name": "python3"
    }
  },
  "nbformat": 4,
  "nbformat_minor": 0
}